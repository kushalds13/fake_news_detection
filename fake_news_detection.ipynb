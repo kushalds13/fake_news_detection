{
 "cells": [
  {
   "cell_type": "code",
   "execution_count": 1,
   "id": "7132b316-94c8-4e47-a6ba-10d54d9d36a7",
   "metadata": {},
   "outputs": [
    {
     "name": "stdout",
     "output_type": "stream",
     "text": [
      "Fake News Example:\n",
      "                                               title  \\\n",
      "0   Donald Trump Sends Out Embarrassing New Year’...   \n",
      "1   Drunk Bragging Trump Staffer Started Russian ...   \n",
      "2   Sheriff David Clarke Becomes An Internet Joke...   \n",
      "3   Trump Is So Obsessed He Even Has Obama’s Name...   \n",
      "4   Pope Francis Just Called Out Donald Trump Dur...   \n",
      "\n",
      "                                                text subject  \\\n",
      "0  Donald Trump just couldn t wish all Americans ...    News   \n",
      "1  House Intelligence Committee Chairman Devin Nu...    News   \n",
      "2  On Friday, it was revealed that former Milwauk...    News   \n",
      "3  On Christmas day, Donald Trump announced that ...    News   \n",
      "4  Pope Francis used his annual Christmas Day mes...    News   \n",
      "\n",
      "                date  \n",
      "0  December 31, 2017  \n",
      "1  December 31, 2017  \n",
      "2  December 30, 2017  \n",
      "3  December 29, 2017  \n",
      "4  December 25, 2017  \n",
      "\n",
      "True News Example:\n",
      "                                               title  \\\n",
      "0  As U.S. budget fight looms, Republicans flip t...   \n",
      "1  U.S. military to accept transgender recruits o...   \n",
      "2  Senior U.S. Republican senator: 'Let Mr. Muell...   \n",
      "3  FBI Russia probe helped by Australian diplomat...   \n",
      "4  Trump wants Postal Service to charge 'much mor...   \n",
      "\n",
      "                                                text       subject  \\\n",
      "0  WASHINGTON (Reuters) - The head of a conservat...  politicsNews   \n",
      "1  WASHINGTON (Reuters) - Transgender people will...  politicsNews   \n",
      "2  WASHINGTON (Reuters) - The special counsel inv...  politicsNews   \n",
      "3  WASHINGTON (Reuters) - Trump campaign adviser ...  politicsNews   \n",
      "4  SEATTLE/WASHINGTON (Reuters) - President Donal...  politicsNews   \n",
      "\n",
      "                 date  \n",
      "0  December 31, 2017   \n",
      "1  December 29, 2017   \n",
      "2  December 31, 2017   \n",
      "3  December 30, 2017   \n",
      "4  December 29, 2017   \n"
     ]
    }
   ],
   "source": [
    "# Step 1: Import libraries\n",
    "import pandas as pd\n",
    "\n",
    "# Step 2: Load the data\n",
    "fake_news = pd.read_csv('Fake.csv')\n",
    "true_news = pd.read_csv('True.csv')\n",
    "\n",
    "# Step 3: Show the data\n",
    "print(\"Fake News Example:\")\n",
    "print(fake_news.head())\n",
    "\n",
    "print(\"\\nTrue News Example:\")\n",
    "print(true_news.head())"
   ]
  },
  {
   "cell_type": "code",
   "execution_count": 2,
   "id": "c05e9614-f6d2-4197-9754-70fe0afa41d7",
   "metadata": {},
   "outputs": [
    {
     "name": "stdout",
     "output_type": "stream",
     "text": [
      "                                               title  \\\n",
      "0  BOOM! CLINTON RAP: ‘Pay My Foundation for the ...   \n",
      "1   There’s A Bill In The House That Would Comple...   \n",
      "2   Sarah Palin Calls For Executing Democratic ‘C...   \n",
      "3  McMaster says 'not concerned' after Kushner ba...   \n",
      "4   Congressional Black Caucus Cries Foul Over Su...   \n",
      "\n",
      "                                                text       subject  \\\n",
      "0                                                         politics   \n",
      "1  For Republicans, the Robert Mueller investigat...          News   \n",
      "2  Sarah Palin agrees with Donald Trump that Demo...          News   \n",
      "3  TAORMINA, Italy (Reuters) - Asked about report...  politicsNews   \n",
      "4  Earlier this week, following Hillary Clinton s...          News   \n",
      "\n",
      "                date  label  \n",
      "0        Nov 3, 2016      0  \n",
      "1    August 28, 2017      0  \n",
      "2   October 20, 2016      0  \n",
      "3      May 27, 2017       1  \n",
      "4  February 11, 2016      0  \n"
     ]
    }
   ],
   "source": [
    "# Step 1: Add a new column \"label\" to each dataframe\n",
    "fake_news['label'] = 0   # Fake news = 0\n",
    "true_news['label'] = 1   # True news = 1\n",
    "\n",
    "# Step 2: Combine both datasets into one\n",
    "data = pd.concat([fake_news, true_news], axis=0)\n",
    "\n",
    "# Step 3: Shuffle the dataset (so that fake and true are mixed)\n",
    "data = data.sample(frac=1).reset_index(drop=True)\n",
    "\n",
    "# Step 4: Show the combined dataset\n",
    "print(data.head())"
   ]
  },
  {
   "cell_type": "code",
   "execution_count": 3,
   "id": "16c646f5-4d0f-422e-b16e-168573d99d7a",
   "metadata": {},
   "outputs": [
    {
     "name": "stdout",
     "output_type": "stream",
     "text": [
      "Training data size: (35918,)\n",
      "Testing data size: (8980,)\n"
     ]
    }
   ],
   "source": [
    "from sklearn.model_selection import train_test_split\n",
    "\n",
    "# We'll use only the \"text\" column to predict the \"label\"\n",
    "X = data['text']  # Features (input)\n",
    "y = data['label'] # Labels (output)\n",
    "\n",
    "# Split into 80% training and 20% testing\n",
    "X_train, X_test, y_train, y_test = train_test_split(X, y, test_size=0.2, random_state=42)\n",
    "\n",
    "print(\"Training data size:\", X_train.shape)\n",
    "print(\"Testing data size:\", X_test.shape)"
   ]
  },
  {
   "cell_type": "code",
   "execution_count": 4,
   "id": "f869ba6a-ce66-46d8-9639-b4cbad73b245",
   "metadata": {},
   "outputs": [
    {
     "name": "stdout",
     "output_type": "stream",
     "text": [
      "TF-IDF transformation complete!\n",
      "Shape of X_train_tfidf: (35918, 111467)\n",
      "Shape of X_test_tfidf: (8980, 111467)\n"
     ]
    }
   ],
   "source": [
    "from sklearn.feature_extraction.text import TfidfVectorizer\n",
    "\n",
    "# Create TF-IDF vectorizer\n",
    "vectorizer = TfidfVectorizer(stop_words='english', max_df=0.7)\n",
    "\n",
    "# Fit and transform the training data\n",
    "X_train_tfidf = vectorizer.fit_transform(X_train)\n",
    "\n",
    "# Only transform the test data\n",
    "X_test_tfidf = vectorizer.transform(X_test)\n",
    "\n",
    "print(\"TF-IDF transformation complete!\")\n",
    "print(\"Shape of X_train_tfidf:\", X_train_tfidf.shape)\n",
    "print(\"Shape of X_test_tfidf:\", X_test_tfidf.shape)"
   ]
  },
  {
   "cell_type": "code",
   "execution_count": 7,
   "id": "ae2842ba-6640-4ee2-bcf7-0fe4423bf99d",
   "metadata": {},
   "outputs": [
    {
     "name": "stdout",
     "output_type": "stream",
     "text": [
      "Accuracy: 0.9838530066815144\n",
      "\n",
      "Confusion Matrix:\n",
      " [[4555   92]\n",
      " [  53 4280]]\n",
      "\n",
      "Classification Report:\n",
      "               precision    recall  f1-score   support\n",
      "\n",
      "           0       0.99      0.98      0.98      4647\n",
      "           1       0.98      0.99      0.98      4333\n",
      "\n",
      "    accuracy                           0.98      8980\n",
      "   macro avg       0.98      0.98      0.98      8980\n",
      "weighted avg       0.98      0.98      0.98      8980\n",
      "\n"
     ]
    }
   ],
   "source": [
    "from sklearn.linear_model import LogisticRegression\n",
    "from sklearn.metrics import accuracy_score, confusion_matrix, classification_report\n",
    "\n",
    "# Step 1: Create the model\n",
    "model = LogisticRegression()\n",
    "\n",
    "# Step 2: Train the model\n",
    "model.fit(X_train_tfidf, y_train)\n",
    "\n",
    "# Step 3: Predict on the test data\n",
    "y_pred = model.predict(X_test_tfidf)\n",
    "\n",
    "# Step 4: Evaluate the model\n",
    "print(\"Accuracy:\", accuracy_score(y_test, y_pred))\n",
    "print(\"\\nConfusion Matrix:\\n\", confusion_matrix(y_test, y_pred))\n",
    "print(\"\\nClassification Report:\\n\", classification_report(y_test, y_pred))"
   ]
  },
  {
   "cell_type": "code",
   "execution_count": 8,
   "id": "071797e4-ef1f-4432-8e01-b373fae8516e",
   "metadata": {},
   "outputs": [
    {
     "name": "stdout",
     "output_type": "stream",
     "text": [
      "🔴 This news is likely FAKE.\n"
     ]
    }
   ],
   "source": [
    "def predict_news(news_text):\n",
    "    # Transform the news text to TF-IDF vector\n",
    "    news_tfidf = vectorizer.transform([news_text])\n",
    "    # Predict using the trained model\n",
    "    prediction = model.predict(news_tfidf)\n",
    "    \n",
    "    # Output\n",
    "    if prediction[0] == 0:\n",
    "        print(\"🔴 This news is likely FAKE.\")\n",
    "    else:\n",
    "        print(\"🟢 This news is likely REAL.\")\n",
    "\n",
    "# Example:\n",
    "sample_news = \"Donald Trump claims massive voter fraud during election.\"\n",
    "predict_news(sample_news)"
   ]
  },
  {
   "cell_type": "code",
   "execution_count": 10,
   "id": "425dbf00-456a-43b3-926a-09ec60ba8047",
   "metadata": {},
   "outputs": [
    {
     "name": "stdout",
     "output_type": "stream",
     "text": [
      "✅ Model and vectorizer saved successfully!\n"
     ]
    }
   ],
   "source": [
    "import pickle\n",
    "\n",
    "# Save the trained model\n",
    "with open('fake_news_model.pkl', 'wb') as model_file:\n",
    "    pickle.dump(model, model_file)\n",
    "\n",
    "# Save the TF-IDF vectorizer\n",
    "with open('tfidf_vectorizer.pkl', 'wb') as vectorizer_file:\n",
    "    pickle.dump(vectorizer, vectorizer_file)\n",
    "\n",
    "print(\"✅ Model and vectorizer saved successfully!\")"
   ]
  },
  {
   "cell_type": "code",
   "execution_count": null,
   "id": "b04e7b01-6ae2-480b-b771-61f10ac43649",
   "metadata": {},
   "outputs": [],
   "source": []
  },
  {
   "cell_type": "code",
   "execution_count": null,
   "id": "dad90b71-332f-4c13-a785-57d8ae661b23",
   "metadata": {},
   "outputs": [],
   "source": []
  }
 ],
 "metadata": {
  "kernelspec": {
   "display_name": "Python [conda env:base] *",
   "language": "python",
   "name": "conda-base-py"
  },
  "language_info": {
   "codemirror_mode": {
    "name": "ipython",
    "version": 3
   },
   "file_extension": ".py",
   "mimetype": "text/x-python",
   "name": "python",
   "nbconvert_exporter": "python",
   "pygments_lexer": "ipython3",
   "version": "3.12.7"
  }
 },
 "nbformat": 4,
 "nbformat_minor": 5
}
